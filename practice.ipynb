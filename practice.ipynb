{
 "cells": [
  {
   "cell_type": "markdown",
   "id": "ac258a4d-5ac8-4f0a-a1e9-c8cc87edc3c4",
   "metadata": {},
   "source": [
    "# Understanding Iterators & Iterables concepts"
   ]
  },
  {
   "cell_type": "markdown",
   "id": "ec62b550-9d4a-4293-9372-c19196c6f2b5",
   "metadata": {},
   "source": [
    "## Concepts\n",
    "\n",
    "Course Link: https://app.pluralsight.com/course-player?clipId=5ef740cd-8dab-4b24-8c7a-fc0f405de3b0\n",
    "\n",
    "### Iterable\n",
    "An Iterable is an object which can be traversed to retrieve successive values.\n",
    "\n",
    "### Iterator\n",
    "Iterators are the objects that encapsulates the current position in the Iterable, and provides an interface to retrieve successive values.\n",
    "\n",
    "Iterators decouple how the items are managed and how they are retrieved. \n",
    "\n",
    "Items in the Iterable can be part of a Collection like List, Or they can be generated using a Generator, Or they can be read from a file Or, they can be produced in real time by a sensor."
   ]
  },
  {
   "cell_type": "markdown",
   "id": "c5c12fd2-9b44-4fbf-91ea-52911673af6f",
   "metadata": {},
   "source": [
    "## Python Interface\n",
    "\n",
    "### `iter()`\n",
    "`iter()` accepts the Iterable object as argument and creates and returns an Iterator.\n",
    "\n",
    "### `next()`\n",
    "`next()` when called on the Iterator returned by `iter()` returns the next value in the Iterable.\n",
    "\n",
    "### `exception StopIteration`\n",
    "`next()` raises an `StopIteration` exception when there no element to read in the Iterable.\n"
   ]
  },
  {
   "cell_type": "markdown",
   "id": "440f8a58-ebcf-4b94-99e6-d53aa214dc8c",
   "metadata": {},
   "source": [
    "## Python Implementation\n",
    "\n",
    "### Iterable protocol\n",
    "Iterables in python are those objects which define the `__iter__()` function. \n",
    "\n",
    "When the Iterable is passed to the `iter()`, the `iter()` actually calls the Iterable's `__iter__()` function.\n",
    "\n",
    "The `__iter__()` must return an Iterator object.\n",
    "\n",
    "### Iterator protocol\n",
    "Iterators, like Iterables implement `__iter__()` method. This means all Iterators are Iterables too. \n",
    "\n",
    "Most Iterators return `self` from the `__iter__()`.\n",
    "\n",
    "Iterators are also required to implement `__next__()` method. This method is called when `next()` is called on the Iterator.\n",
    "\n",
    "The `__next__()` should return the next value from the Iterable traversed by the Iterator. Also the `__next__()` shall raise an exception `StopIteration` if the Iterable is empty."
   ]
  },
  {
   "cell_type": "markdown",
   "id": "bbde9a7a-6ba1-4908-afad-db6f1fb9aad8",
   "metadata": {},
   "source": [
    "### Examples\n",
    "\n",
    "```\n",
    "_list = ['a', 'zebra', 69.0, math.pi, 42]\n",
    "_dict = {'a': 1, 'h': 8, 'z': 26}\n",
    "_tuple = ('A', 'quick', 'brown', 'fox')\n",
    "```\n",
    "By default, all the collection objects in python viz. Lists, Dicts, Tuples are Iterables."
   ]
  },
  {
   "cell_type": "markdown",
   "id": "96ba0873-c9ae-4052-82e6-aee987b1f737",
   "metadata": {},
   "source": [
    "# Practice"
   ]
  },
  {
   "cell_type": "markdown",
   "id": "68df32f6-b806-4e07-8b91-fdd2c5118f1c",
   "metadata": {},
   "source": [
    "## Example #1\n",
    "\n",
    "Course Link: https://app.pluralsight.com/course-player?clipId=e9b537ab-b9a3-40df-b535-98b00f8086e1"
   ]
  },
  {
   "cell_type": "code",
   "execution_count": 1,
   "id": "18d05047-038b-472a-b4f7-cde5d439db87",
   "metadata": {
    "tags": []
   },
   "outputs": [],
   "source": [
    "# Let an infix expression: (x - y) / (w + z)\n",
    "# This expression can be represented as a parser binary tree.\n",
    "# The binary tree can be represented as a python list:\n",
    "\n",
    "expr_tree = ['/', '-', '+', 'x', 'y', 'w', 'z']\n",
    "\n",
    "# Creating Iterator\n",
    "iterator = iter(expr_tree)"
   ]
  },
  {
   "cell_type": "code",
   "execution_count": 2,
   "id": "ff790205-ee9b-4ab3-b3ac-4a6dad33dc1b",
   "metadata": {},
   "outputs": [
    {
     "data": {
      "text/plain": [
       "'/'"
      ]
     },
     "execution_count": 2,
     "metadata": {},
     "output_type": "execute_result"
    }
   ],
   "source": [
    "# Iterating using next()\n",
    "next(iterator)"
   ]
  },
  {
   "cell_type": "code",
   "execution_count": 3,
   "id": "b973efac-ead4-4f49-b419-d8c66397291a",
   "metadata": {},
   "outputs": [
    {
     "data": {
      "text/plain": [
       "'-'"
      ]
     },
     "execution_count": 3,
     "metadata": {},
     "output_type": "execute_result"
    }
   ],
   "source": [
    "next(iterator)"
   ]
  },
  {
   "cell_type": "code",
   "execution_count": 4,
   "id": "2ded2cf5-ad78-41a4-8ef1-4f65c3f86e2a",
   "metadata": {},
   "outputs": [
    {
     "data": {
      "text/plain": [
       "'+'"
      ]
     },
     "execution_count": 4,
     "metadata": {},
     "output_type": "execute_result"
    }
   ],
   "source": [
    "next(iterator)"
   ]
  },
  {
   "cell_type": "code",
   "execution_count": 5,
   "id": "064e9622-3819-4f8d-9ef6-f3252d7b5464",
   "metadata": {},
   "outputs": [
    {
     "data": {
      "text/plain": [
       "'x'"
      ]
     },
     "execution_count": 5,
     "metadata": {},
     "output_type": "execute_result"
    }
   ],
   "source": [
    "next(iterator)"
   ]
  },
  {
   "cell_type": "code",
   "execution_count": 6,
   "id": "6c048b12-ab03-4bec-bccf-a98e0c6d7b97",
   "metadata": {},
   "outputs": [
    {
     "data": {
      "text/plain": [
       "'y'"
      ]
     },
     "execution_count": 6,
     "metadata": {},
     "output_type": "execute_result"
    }
   ],
   "source": [
    "next(iterator)"
   ]
  },
  {
   "cell_type": "code",
   "execution_count": 7,
   "id": "3a7e60c2-307f-4ffd-a564-f4ae249a4f9c",
   "metadata": {},
   "outputs": [
    {
     "data": {
      "text/plain": [
       "'w'"
      ]
     },
     "execution_count": 7,
     "metadata": {},
     "output_type": "execute_result"
    }
   ],
   "source": [
    "next(iterator)"
   ]
  },
  {
   "cell_type": "code",
   "execution_count": 8,
   "id": "6e83066e-3dbc-4e00-aadb-3fde6560284b",
   "metadata": {},
   "outputs": [
    {
     "data": {
      "text/plain": [
       "'z'"
      ]
     },
     "execution_count": 8,
     "metadata": {},
     "output_type": "execute_result"
    }
   ],
   "source": [
    "next(iterator)"
   ]
  },
  {
   "cell_type": "code",
   "execution_count": 10,
   "id": "c7ab86d0-d852-4777-9445-ba4a26e97241",
   "metadata": {},
   "outputs": [
    {
     "ename": "StopIteration",
     "evalue": "",
     "output_type": "error",
     "traceback": [
      "\u001b[1;31m---------------------------------------------------------------------------\u001b[0m",
      "\u001b[1;31mStopIteration\u001b[0m                             Traceback (most recent call last)",
      "\u001b[1;32m<ipython-input-10-4ce711c44abc>\u001b[0m in \u001b[0;36m<module>\u001b[1;34m\u001b[0m\n\u001b[1;32m----> 1\u001b[1;33m \u001b[0mnext\u001b[0m\u001b[1;33m(\u001b[0m\u001b[0miterator\u001b[0m\u001b[1;33m)\u001b[0m\u001b[1;33m\u001b[0m\u001b[1;33m\u001b[0m\u001b[0m\n\u001b[0m",
      "\u001b[1;31mStopIteration\u001b[0m: "
     ]
    }
   ],
   "source": [
    "next(iterator)"
   ]
  },
  {
   "cell_type": "markdown",
   "id": "adfef4b8-4aca-48ef-accc-68115195c0a7",
   "metadata": {},
   "source": [
    "## Example #2 "
   ]
  },
  {
   "cell_type": "code",
   "execution_count": 11,
   "id": "a34e0a24-9c84-40a9-a7e4-9e0d2339b2b0",
   "metadata": {},
   "outputs": [
    {
     "name": "stdout",
     "output_type": "stream",
     "text": [
      "/\n",
      "-\n",
      "+\n",
      "x\n",
      "y\n",
      "w\n",
      "z\n"
     ]
    }
   ],
   "source": [
    "# Using the iterator in a Python expression which relies on Iteration Protocol, like 'for' loop\n",
    "iterator = iter(expr_tree)\n",
    "for item in iterator:\n",
    "    print(item)"
   ]
  },
  {
   "cell_type": "markdown",
   "id": "7d03f1b4-a364-4f18-a3d1-5c140c28a36b",
   "metadata": {},
   "source": [
    "## Example #3\n",
    "\n",
    "Course Link: https://app.pluralsight.com/course-player?clipId=e126f0c5-7bff-4ceb-9eab-08cfcb93c146"
   ]
  },
  {
   "cell_type": "code",
   "execution_count": 12,
   "id": "840b12a6-9a5c-46d3-bcb4-d24cc0eb2ce9",
   "metadata": {},
   "outputs": [],
   "source": [
    "# Creating our own Iterator for LevelOrder Binary Tree Traversal\n",
    "class LevelOrderIterator:\n",
    "    \n",
    "    def __init__(self, seq):\n",
    "\n",
    "        # Local copy of initial sequence\n",
    "        self._sequence = seq\n",
    "        \n",
    "        # Index to keep track/state of current position in Iterable/Sequence\n",
    "        self._idx = 0\n",
    "        \n",
    "    def __iter__(self):\n",
    "        \n",
    "        # By default, Iterators return 'self' from __iter__()\n",
    "        return self\n",
    "        \n",
    "    def __next__(self):\n",
    "        \n",
    "        # If all the elements of Iterable are exhausted, __next__() shall raise 'StopIteration'\n",
    "        if self._idx >= len(self._sequence):\n",
    "            raise StopIteration\n",
    "        \n",
    "        # Get the item at current pos\n",
    "        item = self._sequence[self._idx]\n",
    "        \n",
    "        # Increment the cur pos tracker\n",
    "        self._idx += 1\n",
    "        \n",
    "        return item\n"
   ]
  },
  {
   "cell_type": "code",
   "execution_count": 13,
   "id": "1a816b70-ba0b-4195-90c7-4483cb65d4f2",
   "metadata": {},
   "outputs": [
    {
     "name": "stdout",
     "output_type": "stream",
     "text": [
      "Prefix Notation of expression: / - + x y w z\n",
      "\n"
     ]
    }
   ],
   "source": [
    "expr_iter = LevelOrderIterator(expr_tree)\n",
    "\n",
    "print(f\"Prefix Notation of expression: {' '.join(expr_iter)}\\n\")    "
   ]
  },
  {
   "cell_type": "code",
   "execution_count": 14,
   "id": "b210f061-026a-44f0-bbbb-81fccd7b96bd",
   "metadata": {},
   "outputs": [],
   "source": [
    "# Add a check for perfect binary tree to our class\n",
    "\n",
    "def _is_perfect_binary_tree(seq):\n",
    "    \"\"\"\n",
    "    Check if the length of the seq is 2^n - 1\n",
    "    \"\"\"\n",
    "    \n",
    "    l = len(seq)\n",
    "    return l != 0 and not l & (l + 1)\n"
   ]
  },
  {
   "cell_type": "code",
   "execution_count": 15,
   "id": "d76b1c43-51b9-4192-a0df-ef7d9949ca0c",
   "metadata": {},
   "outputs": [
    {
     "name": "stdout",
     "output_type": "stream",
     "text": [
      "{0: False,\n",
      " 1: True,\n",
      " 2: False,\n",
      " 3: True,\n",
      " 4: False,\n",
      " 5: False,\n",
      " 6: False,\n",
      " 7: True,\n",
      " 8: False,\n",
      " 9: False,\n",
      " 10: False,\n",
      " 11: False,\n",
      " 12: False,\n",
      " 13: False,\n",
      " 14: False,\n",
      " 15: True,\n",
      " 16: False,\n",
      " 17: False,\n",
      " 18: False,\n",
      " 19: False,\n",
      " 20: False,\n",
      " 21: False,\n",
      " 22: False,\n",
      " 23: False,\n",
      " 24: False,\n",
      " 25: False,\n",
      " 26: False,\n",
      " 27: False,\n",
      " 28: False,\n",
      " 29: False,\n",
      " 30: False,\n",
      " 31: True}\n"
     ]
    }
   ],
   "source": [
    "from pprint import pp\n",
    "\n",
    "pp({i: _is_perfect_binary_tree([j for j in range(i)]) for i in range(32)})"
   ]
  },
  {
   "cell_type": "code",
   "execution_count": 16,
   "id": "cfe9b7f2-c8c1-4a97-91df-b1fc0a4fbe85",
   "metadata": {},
   "outputs": [],
   "source": [
    "class LevelOrderIterator:\n",
    "    \n",
    "    def __init__(self, seq):\n",
    "        \n",
    "        # Check if input sequence is perfect binary tree\n",
    "        if not _is_perfect_binary_tree(seq):\n",
    "            raise ValueError(f\"Given sequence is not a perfect binary tree with length 2^n - 1\")\n",
    "\n",
    "        # Local copy of initial sequence\n",
    "        self._sequence = seq\n",
    "        \n",
    "        # Index to keep track/state of current position in Iterable/Sequence\n",
    "        self._idx = 0\n",
    "        \n",
    "    def __iter__(self):\n",
    "        \n",
    "        # By default, Iterators return 'self' from __iter__()\n",
    "        return self\n",
    "        \n",
    "    def __next__(self):\n",
    "        \n",
    "        # If all the elements of Iterable are exhausted, __next__() shall raise 'StopIteration'\n",
    "        if self._idx >= len(self._sequence):\n",
    "            raise StopIteration\n",
    "        \n",
    "        # Get the item at current pos\n",
    "        item = self._sequence[self._idx]\n",
    "        \n",
    "        # Increment the cur pos tracker\n",
    "        self._idx += 1\n",
    "        \n",
    "        return item\n"
   ]
  },
  {
   "cell_type": "code",
   "execution_count": 17,
   "id": "0adf3caf-51b2-4c35-9aa7-1f36ae1abf8e",
   "metadata": {},
   "outputs": [
    {
     "ename": "ValueError",
     "evalue": "Given sequence is not a perfect binary tree with length 2^n - 1",
     "output_type": "error",
     "traceback": [
      "\u001b[1;31m---------------------------------------------------------------------------\u001b[0m",
      "\u001b[1;31mValueError\u001b[0m                                Traceback (most recent call last)",
      "\u001b[1;32m<ipython-input-17-164c1bca3e9b>\u001b[0m in \u001b[0;36m<module>\u001b[1;34m\u001b[0m\n\u001b[0;32m      2\u001b[0m \u001b[0mimperfect_expr_tree\u001b[0m \u001b[1;33m=\u001b[0m \u001b[1;33m[\u001b[0m\u001b[1;34m'*'\u001b[0m\u001b[1;33m,\u001b[0m \u001b[1;34m'a'\u001b[0m\u001b[1;33m,\u001b[0m \u001b[1;34m'+'\u001b[0m\u001b[1;33m,\u001b[0m \u001b[1;34m'b'\u001b[0m\u001b[1;33m,\u001b[0m \u001b[1;34m'c'\u001b[0m\u001b[1;33m]\u001b[0m    \u001b[1;31m# a * (b + c)\u001b[0m\u001b[1;33m\u001b[0m\u001b[1;33m\u001b[0m\u001b[0m\n\u001b[0;32m      3\u001b[0m \u001b[1;33m\u001b[0m\u001b[0m\n\u001b[1;32m----> 4\u001b[1;33m \u001b[0mit\u001b[0m \u001b[1;33m=\u001b[0m \u001b[0mLevelOrderIterator\u001b[0m\u001b[1;33m(\u001b[0m\u001b[0mimperfect_expr_tree\u001b[0m\u001b[1;33m)\u001b[0m\u001b[1;33m\u001b[0m\u001b[1;33m\u001b[0m\u001b[0m\n\u001b[0m",
      "\u001b[1;32m<ipython-input-16-22fc1408045e>\u001b[0m in \u001b[0;36m__init__\u001b[1;34m(self, seq)\u001b[0m\n\u001b[0;32m      5\u001b[0m         \u001b[1;31m# Check if input sequence is perfect binary tree\u001b[0m\u001b[1;33m\u001b[0m\u001b[1;33m\u001b[0m\u001b[1;33m\u001b[0m\u001b[0m\n\u001b[0;32m      6\u001b[0m         \u001b[1;32mif\u001b[0m \u001b[1;32mnot\u001b[0m \u001b[0m_is_perfect_binary_tree\u001b[0m\u001b[1;33m(\u001b[0m\u001b[0mseq\u001b[0m\u001b[1;33m)\u001b[0m\u001b[1;33m:\u001b[0m\u001b[1;33m\u001b[0m\u001b[1;33m\u001b[0m\u001b[0m\n\u001b[1;32m----> 7\u001b[1;33m             \u001b[1;32mraise\u001b[0m \u001b[0mValueError\u001b[0m\u001b[1;33m(\u001b[0m\u001b[1;34mf\"Given sequence is not a perfect binary tree with length 2^n - 1\"\u001b[0m\u001b[1;33m)\u001b[0m\u001b[1;33m\u001b[0m\u001b[1;33m\u001b[0m\u001b[0m\n\u001b[0m\u001b[0;32m      8\u001b[0m \u001b[1;33m\u001b[0m\u001b[0m\n\u001b[0;32m      9\u001b[0m         \u001b[1;31m# Local copy of initial sequence\u001b[0m\u001b[1;33m\u001b[0m\u001b[1;33m\u001b[0m\u001b[1;33m\u001b[0m\u001b[0m\n",
      "\u001b[1;31mValueError\u001b[0m: Given sequence is not a perfect binary tree with length 2^n - 1"
     ]
    }
   ],
   "source": [
    "# Test our modified class\n",
    "imperfect_expr_tree = ['*', 'a', '+', 'b', 'c']    # a * (b + c)\n",
    "\n",
    "it = LevelOrderIterator(imperfect_expr_tree)"
   ]
  },
  {
   "cell_type": "markdown",
   "id": "79485fc8-f0fe-4eb1-be73-b3a2f801b9a7",
   "metadata": {},
   "source": [
    "## Example #4\n",
    "\n",
    "Course Link: https://app.pluralsight.com/course-player?clipId=50cada57-0c03-4a99-a7bf-38066c4cb960"
   ]
  },
  {
   "cell_type": "code",
   "execution_count": null,
   "id": "5f5b7abd-68f7-40c1-9b6e-27d9bed53df2",
   "metadata": {},
   "outputs": [],
   "source": []
  }
 ],
 "metadata": {
  "kernelspec": {
   "display_name": "Python 3",
   "language": "python",
   "name": "python3"
  },
  "language_info": {
   "codemirror_mode": {
    "name": "ipython",
    "version": 3
   },
   "file_extension": ".py",
   "mimetype": "text/x-python",
   "name": "python",
   "nbconvert_exporter": "python",
   "pygments_lexer": "ipython3",
   "version": "3.9.4"
  }
 },
 "nbformat": 4,
 "nbformat_minor": 5
}
