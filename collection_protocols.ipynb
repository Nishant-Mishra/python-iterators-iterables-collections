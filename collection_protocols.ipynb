{
 "cells": [
  {
   "cell_type": "markdown",
   "id": "a1cbcd1f-15fc-4982-8fd6-fe5e436b5aae",
   "metadata": {},
   "source": [
    "# Protocols of Python Collections"
   ]
  },
  {
   "cell_type": "markdown",
   "id": "c2a3fce1-c162-4988-919f-3425b8b1ffb4",
   "metadata": {},
   "source": [
    "**Course**: _https://app.pluralsight.com/library/courses/core-python-implementing-iterators-iterables-collections/table-of-contents_"
   ]
  },
  {
   "cell_type": "markdown",
   "id": "f4124ff9-8754-4284-a0c9-8905c04684ee",
   "metadata": {},
   "source": [
    "> **Clip #01**: _https://app.pluralsight.com/course-player?clipId=a3f43cab-007c-44c4-87c5-f2e349f790a4_"
   ]
  },
  {
   "cell_type": "markdown",
   "id": "80af06d5-5a11-470d-8700-a3d7f902a692",
   "metadata": {},
   "source": [
    "Various Collections have been implemented in Python which can contain a group of diverse objects in python. Some example of collections are `list`, `dict`, `set`, `tuple`, etc. \n",
    "\n",
    "Each Protocol of Collections define a set of operations which that Collection should support in order to have that Protocol supported. For example, Iterable Protocol requires the Collection to support `__iter__()` + `__next__()` or `__getitem__()` operations."
   ]
  },
  {
   "cell_type": "markdown",
   "id": "58643090-594a-4824-becd-b5d70f8f2a52",
   "metadata": {},
   "source": [
    "## Protocols\n",
    "Collections in Python can be organized based on the protocols they support. Following are the Protocols in Python specific to Collections:\n",
    "\n",
    "1. __Container__ Protocol:\n",
    "    - Requires the `Collection` to support __membership__ operation, with `in` and `not in` operators. \n",
    "    - Realized by the Collection by implementing `__contains__()` method.\n",
    "    - Examples: __`list, range, dict, tuple, str, bytes, set, frozenset`__\n",
    "\n",
    "\n",
    "2. __Sized__ Protocol: \n",
    "    - Requires the `Collection` to support __`len()`__ operation. \n",
    "    - Realized by the Collection by implementing `__len__()` method.\n",
    "    - Examples: __`list, range, dict, tuple, str, bytes, set, frozenset`__\n",
    "\n",
    "\n",
    "3. __Iterable__ Protocol:\n",
    "    - Requires the `Collection` to return an Iterator, when called with `iter()`.\n",
    "    - Realized by the Collection by implementing `__iter__()` method which returns an Iterator.\n",
    "    - Examples: __`list, range, dict, tuple, str, bytes, set, frozenset`__\n",
    "\n",
    "\n",
    "4. __Sequence__ Protocol:\n",
    "    - Requires the `Collection` to support following operations:\n",
    "        - Indexing: Any element of the collection can be accessed using `collection[index]` operation\n",
    "        - Element Index: The index of any element can be determined with `collection.index(elem)` operation\n",
    "        - Element Count: Number of occurrances of any element can be determined with `collection.count(elem)` operation\n",
    "        - Reverse Iterator: The collection must support `reversed()` operation\n",
    "    - Examples: __`list, range, tuple, str, bytes`__\n",
    "\n",
    "\n",
    "5. __Set__ Protocol:\n",
    "    - Requires the `Collection` to support *set algebra* operations viz. __union, intersection, difference, symmetric difference, subset, superset,__ etc.\n",
    "    - Examples: __`set, frozenset`__\n",
    "\n",
    "\n",
    "6. __Mapping__ Protocol:\n",
    "    - Requires the `Collection` to support a mapping of keys to values and ability to access a value using the key.\n",
    "    - Example: __`dict`__\n",
    "\n",
    "___NOTE__: All the above protocols support querying (reading/accessing) operations. Out of the above Protocols, the `Set`, `Sequence` and `Mapping` also support `Mutable` versions, i.e. which support in place collection modification._\n",
    "\n",
    "7. __Mutable Sequence__ Protocol: Example: __`list`__\n",
    "\n",
    "8. __Mutable Set__ Protocol: Example: __`set`__\n",
    "\n",
    "9. __Mutable Mapping__ Protocol: Example: __`dict`__"
   ]
  },
  {
   "cell_type": "markdown",
   "id": "6bc22c67-d188-4697-99a1-e0981b0232c4",
   "metadata": {},
   "source": [
    "### Example Problem Statement\n",
    "To demonstrate these protocol, we will create our own `SortedFrozenSet` Collection. \n",
    "\n",
    "This collection would be a __Sized, Iterable, Sequence Container__ of a __Set__ of distinct elements _constructible_ from an _Iterable_.\n",
    "\n",
    "In this course of design, implementation and learning, we shall use the **Test Driven Development** methodology."
   ]
  },
  {
   "cell_type": "markdown",
   "id": "81cb2946-faf9-46fe-aa87-ab1e42766887",
   "metadata": {},
   "source": [
    "> #### Test Driven Development (TDD)\n",
    "> TDD is a development methodology, which advocates _writing unittest cases to test the code before actually writing the code_.\n",
    ">\n",
    "> It follows the cycle of:\n",
    "\n",
    "     Red ----> Green\n",
    "      ^           /\n",
    "       \\         /\n",
    "        \\       /\n",
    "         \\     v\n",
    "         Refactor\n",
    "\n",
    "> i.e.\n",
    ">\n",
    "> 1. `Red`: Write and Run the test. The test shall (obviously) fail, as the code being tested is not written yet.\n",
    "> 2. `Green`: Write the bare minimum code and keep testing it, unless the test passes.\n",
    "> 3. `Refactor`: Reflect upon the code and improve it, if needed (for better performance or formatting, etc.)\n",
    "> 4. Move forward to writing next unittest..."
   ]
  },
  {
   "cell_type": "code",
   "execution_count": null,
   "id": "760893ae-bbf1-48e3-a2b0-ba185d2315cc",
   "metadata": {},
   "outputs": [],
   "source": []
  }
 ],
 "metadata": {
  "kernelspec": {
   "display_name": "Python 3",
   "language": "python",
   "name": "python3"
  },
  "language_info": {
   "codemirror_mode": {
    "name": "ipython",
    "version": 3
   },
   "file_extension": ".py",
   "mimetype": "text/x-python",
   "name": "python",
   "nbconvert_exporter": "python",
   "pygments_lexer": "ipython3",
   "version": "3.9.4"
  }
 },
 "nbformat": 4,
 "nbformat_minor": 5
}
