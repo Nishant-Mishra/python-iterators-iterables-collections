{
 "cells": [
  {
   "cell_type": "markdown",
   "id": "ac258a4d-5ac8-4f0a-a1e9-c8cc87edc3c4",
   "metadata": {},
   "source": [
    "# Understanding Iterators & Iterables concepts"
   ]
  },
  {
   "cell_type": "markdown",
   "id": "fd148cdf-7094-4dc6-9a88-07a51c7f99dc",
   "metadata": {},
   "source": [
    "> **Clip #01**: _https://app.pluralsight.com/course-player?clipId=5ef740cd-8dab-4b24-8c7a-fc0f405de3b0_"
   ]
  },
  {
   "cell_type": "markdown",
   "id": "ec62b550-9d4a-4293-9372-c19196c6f2b5",
   "metadata": {},
   "source": [
    "## Concepts\n",
    "\n",
    "### Iterable\n",
    "An Iterable is an object which can be traversed to retrieve successive values.\n",
    "\n",
    "### Iterator\n",
    "Iterators are the objects that encapsulates the current position in the Iterable, and provides an interface to retrieve successive values.\n",
    "\n",
    "Iterators decouple how the items are managed and how they are retrieved. \n",
    "\n",
    "Items in the Iterable can be part of a Collection like List, Or they can be generated using a Generator, Or they can be read from a file Or, they can be produced in real time by a sensor."
   ]
  },
  {
   "cell_type": "markdown",
   "id": "c5c12fd2-9b44-4fbf-91ea-52911673af6f",
   "metadata": {},
   "source": [
    "## Python Interface\n",
    "\n",
    "### `iter()`\n",
    "`iter()` accepts the Iterable object as argument and creates and returns an Iterator.\n",
    "\n",
    "### `next()`\n",
    "`next()` when called on the Iterator returned by `iter()` returns the next value in the Iterable.\n",
    "\n",
    "### `exception StopIteration`\n",
    "`next()` raises an `StopIteration` exception when there no element to read in the Iterable.\n"
   ]
  },
  {
   "cell_type": "markdown",
   "id": "440f8a58-ebcf-4b94-99e6-d53aa214dc8c",
   "metadata": {},
   "source": [
    "## Python Implementation\n",
    "\n",
    "### Iterable protocol\n",
    "Iterables in python are those objects which define the `__iter__()` function. \n",
    "\n",
    "When the Iterable is passed to the `iter()`, the `iter()` actually calls the Iterable's `__iter__()` function.\n",
    "\n",
    "The `__iter__()` must return an Iterator object.\n",
    "\n",
    "### Iterator protocol\n",
    "Iterators, like Iterables implement `__iter__()` method. This means all Iterators are Iterables too. \n",
    "\n",
    "Most Iterators return `self` from the `__iter__()`.\n",
    "\n",
    "Iterators are also required to implement `__next__()` method. This method is called when `next()` is called on the Iterator.\n",
    "\n",
    "The `__next__()` should return the next value from the Iterable traversed by the Iterator. Also the `__next__()` shall raise an exception `StopIteration` if the Iterable is empty."
   ]
  },
  {
   "cell_type": "markdown",
   "id": "bbde9a7a-6ba1-4908-afad-db6f1fb9aad8",
   "metadata": {},
   "source": [
    "### Examples\n",
    "\n",
    "```\n",
    "_list = ['a', 'zebra', 69.0, math.pi, 42]\n",
    "_dict = {'a': 1, 'h': 8, 'z': 26}\n",
    "_tuple = ('A', 'quick', 'brown', 'fox')\n",
    "```\n",
    "By default, all the collection objects in python viz. Lists, Dicts, Tuples are Iterables."
   ]
  },
  {
   "cell_type": "markdown",
   "id": "180de816-2130-43f0-9eef-c3c5872bac25",
   "metadata": {},
   "source": [
    "\n",
    "---\n"
   ]
  },
  {
   "cell_type": "markdown",
   "id": "96ba0873-c9ae-4052-82e6-aee987b1f737",
   "metadata": {},
   "source": [
    "# Practice"
   ]
  },
  {
   "cell_type": "markdown",
   "id": "ad31ce07-9110-43b4-928f-cd457081c98b",
   "metadata": {},
   "source": [
    "> **Clip #02**: _https://app.pluralsight.com/course-player?clipId=e9b537ab-b9a3-40df-b535-98b00f8086e1_"
   ]
  },
  {
   "cell_type": "markdown",
   "id": "68df32f6-b806-4e07-8b91-fdd2c5118f1c",
   "metadata": {},
   "source": [
    "## Example #1: Creating basic Iterator "
   ]
  },
  {
   "cell_type": "code",
   "execution_count": 1,
   "id": "18d05047-038b-472a-b4f7-cde5d439db87",
   "metadata": {
    "tags": []
   },
   "outputs": [],
   "source": [
    "# Let an infix expression: (x - y) / (w + z)\n",
    "# This expression can be represented as a parser binary tree.\n",
    "# The binary tree can be represented as a python list:\n",
    "\n",
    "expr_tree = ['/', '-', '+', 'x', 'y', 'w', 'z']\n",
    "\n",
    "# Creating Iterator\n",
    "iterator = iter(expr_tree)"
   ]
  },
  {
   "cell_type": "code",
   "execution_count": 2,
   "id": "ff790205-ee9b-4ab3-b3ac-4a6dad33dc1b",
   "metadata": {},
   "outputs": [
    {
     "data": {
      "text/plain": [
       "'/'"
      ]
     },
     "execution_count": 2,
     "metadata": {},
     "output_type": "execute_result"
    }
   ],
   "source": [
    "# Iterating using next()\n",
    "next(iterator)"
   ]
  },
  {
   "cell_type": "code",
   "execution_count": 3,
   "id": "b973efac-ead4-4f49-b419-d8c66397291a",
   "metadata": {},
   "outputs": [
    {
     "data": {
      "text/plain": [
       "'-'"
      ]
     },
     "execution_count": 3,
     "metadata": {},
     "output_type": "execute_result"
    }
   ],
   "source": [
    "next(iterator)"
   ]
  },
  {
   "cell_type": "code",
   "execution_count": 4,
   "id": "2ded2cf5-ad78-41a4-8ef1-4f65c3f86e2a",
   "metadata": {},
   "outputs": [
    {
     "data": {
      "text/plain": [
       "'+'"
      ]
     },
     "execution_count": 4,
     "metadata": {},
     "output_type": "execute_result"
    }
   ],
   "source": [
    "next(iterator)"
   ]
  },
  {
   "cell_type": "code",
   "execution_count": 5,
   "id": "064e9622-3819-4f8d-9ef6-f3252d7b5464",
   "metadata": {},
   "outputs": [
    {
     "data": {
      "text/plain": [
       "'x'"
      ]
     },
     "execution_count": 5,
     "metadata": {},
     "output_type": "execute_result"
    }
   ],
   "source": [
    "next(iterator)"
   ]
  },
  {
   "cell_type": "code",
   "execution_count": 6,
   "id": "6c048b12-ab03-4bec-bccf-a98e0c6d7b97",
   "metadata": {},
   "outputs": [
    {
     "data": {
      "text/plain": [
       "'y'"
      ]
     },
     "execution_count": 6,
     "metadata": {},
     "output_type": "execute_result"
    }
   ],
   "source": [
    "next(iterator)"
   ]
  },
  {
   "cell_type": "code",
   "execution_count": 7,
   "id": "3a7e60c2-307f-4ffd-a564-f4ae249a4f9c",
   "metadata": {},
   "outputs": [
    {
     "data": {
      "text/plain": [
       "'w'"
      ]
     },
     "execution_count": 7,
     "metadata": {},
     "output_type": "execute_result"
    }
   ],
   "source": [
    "next(iterator)"
   ]
  },
  {
   "cell_type": "code",
   "execution_count": 8,
   "id": "6e83066e-3dbc-4e00-aadb-3fde6560284b",
   "metadata": {},
   "outputs": [
    {
     "data": {
      "text/plain": [
       "'z'"
      ]
     },
     "execution_count": 8,
     "metadata": {},
     "output_type": "execute_result"
    }
   ],
   "source": [
    "next(iterator)"
   ]
  },
  {
   "cell_type": "code",
   "execution_count": 9,
   "id": "c7ab86d0-d852-4777-9445-ba4a26e97241",
   "metadata": {},
   "outputs": [
    {
     "ename": "StopIteration",
     "evalue": "",
     "output_type": "error",
     "traceback": [
      "\u001b[1;31m---------------------------------------------------------------------------\u001b[0m",
      "\u001b[1;31mStopIteration\u001b[0m                             Traceback (most recent call last)",
      "\u001b[1;32m<ipython-input-9-4ce711c44abc>\u001b[0m in \u001b[0;36m<module>\u001b[1;34m\u001b[0m\n\u001b[1;32m----> 1\u001b[1;33m \u001b[0mnext\u001b[0m\u001b[1;33m(\u001b[0m\u001b[0miterator\u001b[0m\u001b[1;33m)\u001b[0m\u001b[1;33m\u001b[0m\u001b[1;33m\u001b[0m\u001b[0m\n\u001b[0m",
      "\u001b[1;31mStopIteration\u001b[0m: "
     ]
    }
   ],
   "source": [
    "next(iterator)"
   ]
  },
  {
   "cell_type": "markdown",
   "id": "adfef4b8-4aca-48ef-accc-68115195c0a7",
   "metadata": {},
   "source": [
    "## Example #2: Using the iterator in a Python expression"
   ]
  },
  {
   "cell_type": "code",
   "execution_count": 10,
   "id": "a34e0a24-9c84-40a9-a7e4-9e0d2339b2b0",
   "metadata": {},
   "outputs": [
    {
     "name": "stdout",
     "output_type": "stream",
     "text": [
      "/\n",
      "-\n",
      "+\n",
      "x\n",
      "y\n",
      "w\n",
      "z\n"
     ]
    }
   ],
   "source": [
    "# Using the iterator in a Python expression which relies on Iteration Protocol, like 'for' loop\n",
    "iterator = iter(expr_tree)\n",
    "for item in iterator:\n",
    "    print(item)"
   ]
  },
  {
   "cell_type": "markdown",
   "id": "b2f04087-0832-4625-b5a0-8920e6ef2b5f",
   "metadata": {},
   "source": [
    "\n",
    "---\n"
   ]
  },
  {
   "cell_type": "markdown",
   "id": "7d03f1b4-a364-4f18-a3d1-5c140c28a36b",
   "metadata": {},
   "source": [
    "## Example #3: Creating our own Iterator for LevelOrder Binary Tree Traversal"
   ]
  },
  {
   "cell_type": "markdown",
   "id": "8a7112c6-50a9-4f0c-8799-87fddb2cbb26",
   "metadata": {},
   "source": [
    "> **Clip #03**: _https://app.pluralsight.com/course-player?clipId=e126f0c5-7bff-4ceb-9eab-08cfcb93c146_"
   ]
  },
  {
   "cell_type": "code",
   "execution_count": 11,
   "id": "840b12a6-9a5c-46d3-bcb4-d24cc0eb2ce9",
   "metadata": {},
   "outputs": [],
   "source": [
    "class LevelOrderIterator:\n",
    "    \n",
    "    def __init__(self, seq):\n",
    "\n",
    "        # Local copy of initial sequence\n",
    "        self._sequence = seq\n",
    "        \n",
    "        # Index to keep track/state of current position in Iterable/Sequence\n",
    "        self._idx = 0\n",
    "        \n",
    "    def __iter__(self):\n",
    "        \n",
    "        # By default, Iterators return 'self' from __iter__()\n",
    "        return self\n",
    "        \n",
    "    def __next__(self):\n",
    "        \n",
    "        # If all the elements of Iterable are exhausted, __next__() shall raise 'StopIteration'\n",
    "        if self._idx >= len(self._sequence):\n",
    "            raise StopIteration\n",
    "        \n",
    "        # Get the item at current pos\n",
    "        item = self._sequence[self._idx]\n",
    "        \n",
    "        # Increment the cur pos tracker\n",
    "        self._idx += 1\n",
    "        \n",
    "        return item"
   ]
  },
  {
   "cell_type": "code",
   "execution_count": 12,
   "id": "1a816b70-ba0b-4195-90c7-4483cb65d4f2",
   "metadata": {},
   "outputs": [
    {
     "name": "stdout",
     "output_type": "stream",
     "text": [
      "Prefix Notation of expression: / - + x y w z\n",
      "\n"
     ]
    }
   ],
   "source": [
    "expr_iter = LevelOrderIterator(expr_tree)\n",
    "\n",
    "print(f\"Prefix Notation of expression: {' '.join(expr_iter)}\\n\")    "
   ]
  },
  {
   "cell_type": "code",
   "execution_count": 13,
   "id": "b210f061-026a-44f0-bbbb-81fccd7b96bd",
   "metadata": {},
   "outputs": [],
   "source": [
    "# Add a check for perfect binary tree to our class\n",
    "def _is_perfect_binary_tree(seq):\n",
    "    \"\"\"\n",
    "    Check if the length of the seq is 2^n - 1\n",
    "    \"\"\"\n",
    "    \n",
    "    l = len(seq)\n",
    "    return l != 0 and not l & (l + 1)"
   ]
  },
  {
   "cell_type": "code",
   "execution_count": 14,
   "id": "d76b1c43-51b9-4192-a0df-ef7d9949ca0c",
   "metadata": {},
   "outputs": [
    {
     "name": "stdout",
     "output_type": "stream",
     "text": [
      "{0: False,\n",
      " 1: True,\n",
      " 2: False,\n",
      " 3: True,\n",
      " 4: False,\n",
      " 5: False,\n",
      " 6: False,\n",
      " 7: True,\n",
      " 8: False,\n",
      " 9: False,\n",
      " 10: False,\n",
      " 11: False,\n",
      " 12: False,\n",
      " 13: False,\n",
      " 14: False,\n",
      " 15: True,\n",
      " 16: False,\n",
      " 17: False,\n",
      " 18: False,\n",
      " 19: False,\n",
      " 20: False,\n",
      " 21: False,\n",
      " 22: False,\n",
      " 23: False,\n",
      " 24: False,\n",
      " 25: False,\n",
      " 26: False,\n",
      " 27: False,\n",
      " 28: False,\n",
      " 29: False,\n",
      " 30: False,\n",
      " 31: True}\n"
     ]
    }
   ],
   "source": [
    "from pprint import pp\n",
    "\n",
    "pp({i: _is_perfect_binary_tree([j for j in range(i)]) for i in range(32)})"
   ]
  },
  {
   "cell_type": "code",
   "execution_count": 15,
   "id": "cfe9b7f2-c8c1-4a97-91df-b1fc0a4fbe85",
   "metadata": {},
   "outputs": [],
   "source": [
    "class LevelOrderIterator:\n",
    "    \n",
    "    def __init__(self, seq):\n",
    "        \n",
    "        # Check if input sequence is perfect binary tree\n",
    "        if not _is_perfect_binary_tree(seq):\n",
    "            raise ValueError(f\"Given sequence is not a perfect binary tree with length 2^n - 1\")\n",
    "\n",
    "        # Local copy of initial sequence\n",
    "        self._sequence = seq\n",
    "        \n",
    "        # Index to keep track/state of current position in Iterable/Sequence\n",
    "        self._idx = 0\n",
    "        \n",
    "    def __iter__(self):\n",
    "        \n",
    "        # By default, Iterators return 'self' from __iter__()\n",
    "        return self\n",
    "        \n",
    "    def __next__(self):\n",
    "        \n",
    "        # If all the elements of Iterable are exhausted, __next__() shall raise 'StopIteration'\n",
    "        if self._idx >= len(self._sequence):\n",
    "            raise StopIteration\n",
    "        \n",
    "        # Get the item at current pos\n",
    "        item = self._sequence[self._idx]\n",
    "        \n",
    "        # Increment the cur pos tracker\n",
    "        self._idx += 1\n",
    "        \n",
    "        return item"
   ]
  },
  {
   "cell_type": "code",
   "execution_count": 16,
   "id": "0adf3caf-51b2-4c35-9aa7-1f36ae1abf8e",
   "metadata": {},
   "outputs": [
    {
     "ename": "ValueError",
     "evalue": "Given sequence is not a perfect binary tree with length 2^n - 1",
     "output_type": "error",
     "traceback": [
      "\u001b[1;31m---------------------------------------------------------------------------\u001b[0m",
      "\u001b[1;31mValueError\u001b[0m                                Traceback (most recent call last)",
      "\u001b[1;32m<ipython-input-16-164c1bca3e9b>\u001b[0m in \u001b[0;36m<module>\u001b[1;34m\u001b[0m\n\u001b[0;32m      2\u001b[0m \u001b[0mimperfect_expr_tree\u001b[0m \u001b[1;33m=\u001b[0m \u001b[1;33m[\u001b[0m\u001b[1;34m'*'\u001b[0m\u001b[1;33m,\u001b[0m \u001b[1;34m'a'\u001b[0m\u001b[1;33m,\u001b[0m \u001b[1;34m'+'\u001b[0m\u001b[1;33m,\u001b[0m \u001b[1;34m'b'\u001b[0m\u001b[1;33m,\u001b[0m \u001b[1;34m'c'\u001b[0m\u001b[1;33m]\u001b[0m    \u001b[1;31m# a * (b + c)\u001b[0m\u001b[1;33m\u001b[0m\u001b[1;33m\u001b[0m\u001b[0m\n\u001b[0;32m      3\u001b[0m \u001b[1;33m\u001b[0m\u001b[0m\n\u001b[1;32m----> 4\u001b[1;33m \u001b[0mit\u001b[0m \u001b[1;33m=\u001b[0m \u001b[0mLevelOrderIterator\u001b[0m\u001b[1;33m(\u001b[0m\u001b[0mimperfect_expr_tree\u001b[0m\u001b[1;33m)\u001b[0m\u001b[1;33m\u001b[0m\u001b[1;33m\u001b[0m\u001b[0m\n\u001b[0m",
      "\u001b[1;32m<ipython-input-15-22fc1408045e>\u001b[0m in \u001b[0;36m__init__\u001b[1;34m(self, seq)\u001b[0m\n\u001b[0;32m      5\u001b[0m         \u001b[1;31m# Check if input sequence is perfect binary tree\u001b[0m\u001b[1;33m\u001b[0m\u001b[1;33m\u001b[0m\u001b[1;33m\u001b[0m\u001b[0m\n\u001b[0;32m      6\u001b[0m         \u001b[1;32mif\u001b[0m \u001b[1;32mnot\u001b[0m \u001b[0m_is_perfect_binary_tree\u001b[0m\u001b[1;33m(\u001b[0m\u001b[0mseq\u001b[0m\u001b[1;33m)\u001b[0m\u001b[1;33m:\u001b[0m\u001b[1;33m\u001b[0m\u001b[1;33m\u001b[0m\u001b[0m\n\u001b[1;32m----> 7\u001b[1;33m             \u001b[1;32mraise\u001b[0m \u001b[0mValueError\u001b[0m\u001b[1;33m(\u001b[0m\u001b[1;34mf\"Given sequence is not a perfect binary tree with length 2^n - 1\"\u001b[0m\u001b[1;33m)\u001b[0m\u001b[1;33m\u001b[0m\u001b[1;33m\u001b[0m\u001b[0m\n\u001b[0m\u001b[0;32m      8\u001b[0m \u001b[1;33m\u001b[0m\u001b[0m\n\u001b[0;32m      9\u001b[0m         \u001b[1;31m# Local copy of initial sequence\u001b[0m\u001b[1;33m\u001b[0m\u001b[1;33m\u001b[0m\u001b[1;33m\u001b[0m\u001b[0m\n",
      "\u001b[1;31mValueError\u001b[0m: Given sequence is not a perfect binary tree with length 2^n - 1"
     ]
    }
   ],
   "source": [
    "# Test our modified class\n",
    "imperfect_expr_tree = ['*', 'a', '+', 'b', 'c']    # a * (b + c)\n",
    "\n",
    "it = LevelOrderIterator(imperfect_expr_tree)"
   ]
  },
  {
   "cell_type": "markdown",
   "id": "bf8acca4-d5f7-4651-8cdf-4dba67cec82e",
   "metadata": {},
   "source": [
    "\n",
    "---\n"
   ]
  },
  {
   "cell_type": "markdown",
   "id": "79485fc8-f0fe-4eb1-be73-b3a2f801b9a7",
   "metadata": {},
   "source": [
    "## Example #4: Creating Iterator for PreOrderTraversal"
   ]
  },
  {
   "cell_type": "markdown",
   "id": "3e1c7bde-46ca-4271-b8e2-f57817fdfccd",
   "metadata": {},
   "source": [
    "> **Clip #04**: _https://app.pluralsight.com/course-player?clipId=50cada57-0c03-4a99-a7bf-38066c4cb960_"
   ]
  },
  {
   "cell_type": "code",
   "execution_count": 17,
   "id": "5f5b7abd-68f7-40c1-9b6e-27d9bed53df2",
   "metadata": {},
   "outputs": [],
   "source": [
    "from typing import Optional\n",
    "\n",
    "def _left_child(idx: int) -> int:\n",
    "    return 2 * idx + 1\n",
    "\n",
    "def _right_child(idx: int) -> int:\n",
    "    return 2 * idx + 2\n",
    "\n",
    "def _get_child(seq: list, idx_root: int, *, side: str) -> Optional[int]:\n",
    "    \n",
    "    if side == 'left':\n",
    "        child_idx = _left_child(idx_root)\n",
    "    elif side == 'right':\n",
    "        child_idx = _right_child(idx_root)\n",
    "    \n",
    "    return child_idx if len(seq) > child_idx else None\n",
    "\n",
    "class PreOrderIterator:\n",
    "    \"\"\"\n",
    "    PreOrder Constraints:\n",
    "        - Visit Parent before Child\n",
    "        - Visit Left Child before Right Child\n",
    "    \n",
    "    Algo:\n",
    "        1. Start with a stack with root index as the only element\n",
    "        2. Visit the next node by Popping the stack\n",
    "        3. Push the Right child of the node to the stack (if exists)\n",
    "        4. Push the Left child of the node to the stack (if exists)\n",
    "        5. Repeat from (2) till stack is not empty...\n",
    "    \"\"\"\n",
    "    \n",
    "    def __init__(self, seq):\n",
    "        \n",
    "        if not _is_perfect_binary_tree(seq):\n",
    "            raise ValueError(f\"Given sequence is not a perfect binary tree with length 2^n - 1\")            \n",
    "        \n",
    "        self._sequence = seq\n",
    "        self._idxstack = [0]\n",
    "        \n",
    "    def __iter__(self):\n",
    "        return self\n",
    "    \n",
    "    def __next__(self):\n",
    "        \n",
    "        if len(self._idxstack) == 0:\n",
    "            raise StopIteration\n",
    "\n",
    "        idx_item = self._idxstack.pop()\n",
    "\n",
    "        if (child_idx := _get_child(self._sequence, idx_item, side='right')):\n",
    "            self._idxstack.append(child_idx)\n",
    "            \n",
    "        if (child_idx := _get_child(self._sequence, idx_item, side='left')):\n",
    "            self._idxstack.append(child_idx)\n",
    "        \n",
    "        return self._sequence[idx_item]"
   ]
  },
  {
   "cell_type": "code",
   "execution_count": 18,
   "id": "24402a4f-b707-4145-b6b3-762f3629f8ed",
   "metadata": {},
   "outputs": [
    {
     "name": "stdout",
     "output_type": "stream",
     "text": [
      "/ - x y + w z\n"
     ]
    }
   ],
   "source": [
    "# Test Example 1\n",
    "iter_preorder = PreOrderIterator(expr_tree)\n",
    "\n",
    "preorder = \" \".join(iter_preorder)\n",
    "print(preorder)"
   ]
  },
  {
   "cell_type": "markdown",
   "id": "d416877f-76a6-4cd2-8703-009c343a7fe1",
   "metadata": {},
   "source": [
    "\n",
    "---\n"
   ]
  },
  {
   "cell_type": "markdown",
   "id": "f4ecad0a-4dab-43de-8490-07b66ba2e426",
   "metadata": {},
   "source": [
    "## Example #5: Creating Iterator for InOrderTraversal"
   ]
  },
  {
   "cell_type": "markdown",
   "id": "fcaac8b8-cd01-4de0-8e47-fae0eee3702a",
   "metadata": {},
   "source": [
    "> **Clip #04**: _https://app.pluralsight.com/course-player?clipId=5707121b-874d-4145-977e-d658010f1632_"
   ]
  },
  {
   "cell_type": "code",
   "execution_count": 19,
   "id": "ff6c4779-77d8-4184-befe-54a3d596ae53",
   "metadata": {},
   "outputs": [],
   "source": [
    "class InOrderIterator:\n",
    "    \"\"\"\n",
    "    InOrder Constraints:\n",
    "        - Visit Left Child before Parent\n",
    "        - Visit Right Child after Parent\n",
    "    \"\"\"\n",
    "    \n",
    "    def __init__(self, seq):\n",
    "        \n",
    "        if not _is_perfect_binary_tree(seq):\n",
    "            raise ValueError(f\"Given sequence is not a perfect binary tree with length 2^n - 1\")            \n",
    "        \n",
    "        self._sequence = seq\n",
    "        self._idxstack = []\n",
    "        self._cur_idx = 0\n",
    "        \n",
    "    def __iter__(self):\n",
    "        return self\n",
    "    \n",
    "    def __next__(self):\n",
    "        \n",
    "        if len(self._idxstack) == 0 and self._cur_idx > len(self._sequence):\n",
    "            raise StopIteration\n",
    "        \n",
    "        while self._cur_idx < len(self._sequence):\n",
    "            self._idxstack.append(self._cur_idx)\n",
    "            self._cur_idx = _left_child(self._cur_idx)\n",
    "            \n",
    "        item_idx = self._idxstack.pop()\n",
    "        self._cur_idx = _right_child(item_idx)\n",
    "    \n",
    "        return self._sequence[item_idx]"
   ]
  },
  {
   "cell_type": "code",
   "execution_count": 20,
   "id": "5186ff6f-9ab7-42ca-937a-00abb32da696",
   "metadata": {},
   "outputs": [
    {
     "name": "stdout",
     "output_type": "stream",
     "text": [
      "x - y / w + z\n"
     ]
    }
   ],
   "source": [
    "# Test Example 1\n",
    "it_inorder = InOrderIterator(expr_tree)\n",
    "\n",
    "inorder = \" \".join(it_inorder)\n",
    "print(inorder)"
   ]
  },
  {
   "cell_type": "code",
   "execution_count": null,
   "id": "bb1321e8-bec1-440c-a084-2c77be1d7f62",
   "metadata": {},
   "outputs": [],
   "source": []
  },
  {
   "cell_type": "code",
   "execution_count": null,
   "id": "336e3185-de93-4c93-8c66-36537c87368d",
   "metadata": {},
   "outputs": [],
   "source": []
  }
 ],
 "metadata": {
  "kernelspec": {
   "display_name": "Python 3",
   "language": "python",
   "name": "python3"
  },
  "language_info": {
   "codemirror_mode": {
    "name": "ipython",
    "version": 3
   },
   "file_extension": ".py",
   "mimetype": "text/x-python",
   "name": "python",
   "nbconvert_exporter": "python",
   "pygments_lexer": "ipython3",
   "version": "3.9.4"
  }
 },
 "nbformat": 4,
 "nbformat_minor": 5
}
